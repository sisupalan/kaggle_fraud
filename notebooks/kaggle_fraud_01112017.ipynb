{
 "cells": [
  {
   "cell_type": "markdown",
   "metadata": {},
   "source": [
    "### Phase A : Load Required Packages and Dataset"
   ]
  },
  {
   "cell_type": "code",
   "execution_count": 1,
   "metadata": {
    "ExecuteTime": {
     "end_time": "2018-07-07T11:26:22.629939Z",
     "start_time": "2018-07-07T11:26:21.486979Z"
    },
    "extensions": {
     "jupyter_dashboards": {
      "version": 1,
      "views": {
       "grid_default": {
        "hidden": true
       },
       "report_default": {
        "hidden": true
       }
      }
     }
    }
   },
   "outputs": [],
   "source": [
    "#Load libraries\n",
    "import pandas as pd\n",
    "import numpy as np\n",
    "import matplotlib.pyplot as plt\n",
    "import seaborn as sns\n",
    "import telepot"
   ]
  },
  {
   "cell_type": "code",
   "execution_count": 2,
   "metadata": {
    "ExecuteTime": {
     "end_time": "2018-07-07T11:26:22.747236Z",
     "start_time": "2018-07-07T11:26:22.632681Z"
    }
   },
   "outputs": [],
   "source": [
    "#Selective import of modules\n",
    "from sklearn.preprocessing import StandardScaler, MinMaxScaler\n",
    "from sklearn.model_selection import train_test_split\n",
    "from sklearn.ensemble import RandomForestClassifier\n",
    "from sklearn.svm import OneClassSVM\n",
    "from sklearn.dummy import DummyClassifier\n",
    "from sklearn.externals import joblib\n",
    "from sklearn import metrics"
   ]
  },
  {
   "cell_type": "code",
   "execution_count": 3,
   "metadata": {
    "ExecuteTime": {
     "end_time": "2018-07-07T11:26:22.760070Z",
     "start_time": "2018-07-07T11:26:22.749908Z"
    }
   },
   "outputs": [],
   "source": [
    "#Load cell magics\n",
    "%matplotlib inline\n",
    "token=\"559325635:AAH0eBs-GJ0-iFouJ-LZAHtRfhcmYjgFqKo\"\n",
    "chat_id=\"507809613\""
   ]
  },
  {
   "cell_type": "code",
   "execution_count": 4,
   "metadata": {
    "ExecuteTime": {
     "end_time": "2018-07-07T11:26:22.772957Z",
     "start_time": "2018-07-07T11:26:22.765051Z"
    }
   },
   "outputs": [],
   "source": [
    "#Function to send message via Telegram to inform code execution is done\n",
    "def send_telegram_message(text, chat_id, token):\n",
    "    bot = telepot.Bot(token=token)\n",
    "    bot.sendMessage(chat_id=chat_id, text=text)"
   ]
  },
  {
   "cell_type": "code",
   "execution_count": 5,
   "metadata": {
    "ExecuteTime": {
     "end_time": "2018-07-07T11:26:23.662901Z",
     "start_time": "2018-07-07T11:26:22.776992Z"
    }
   },
   "outputs": [],
   "source": [
    "#Send message to denote code has started running\n",
    "send_telegram_message(\"Code started executing..\", chat_id, token)"
   ]
  },
  {
   "cell_type": "code",
   "execution_count": 6,
   "metadata": {
    "ExecuteTime": {
     "end_time": "2018-07-07T11:26:27.566185Z",
     "start_time": "2018-07-07T11:26:23.665903Z"
    },
    "extensions": {
     "jupyter_dashboards": {
      "version": 1,
      "views": {
       "grid_default": {
        "hidden": true
       },
       "report_default": {
        "hidden": true
       }
      }
     }
    }
   },
   "outputs": [],
   "source": [
    "#Load dataset\n",
    "df = pd.read_csv('/Users/SandyPC/Documents/Python/Projects/kaggle_fraud/data/raw/creditcard.csv')"
   ]
  },
  {
   "cell_type": "markdown",
   "metadata": {},
   "source": [
    "### Part B : Data Manipulation"
   ]
  },
  {
   "cell_type": "code",
   "execution_count": 7,
   "metadata": {
    "ExecuteTime": {
     "end_time": "2018-07-07T11:26:28.714331Z",
     "start_time": "2018-07-07T11:26:27.569083Z"
    }
   },
   "outputs": [
    {
     "name": "stdout",
     "output_type": "stream",
     "text": [
      "Shape of dataframe before dropping duplicates is :  (284807, 31)\n",
      "Shape of dataframe after dropping duplicates is :  (283726, 31)\n"
     ]
    }
   ],
   "source": [
    "#Print shape before dropping duplicates\n",
    "print('Shape of dataframe before dropping duplicates is : ', df.shape)\n",
    "\n",
    "#Drop duplicates\n",
    "df = df.drop_duplicates()\n",
    "\n",
    "#Print shape after dropping duplicates\n",
    "print('Shape of dataframe after dropping duplicates is : ', df.shape)"
   ]
  },
  {
   "cell_type": "code",
   "execution_count": 8,
   "metadata": {
    "ExecuteTime": {
     "end_time": "2018-07-07T11:26:28.786743Z",
     "start_time": "2018-07-07T11:26:28.718699Z"
    }
   },
   "outputs": [],
   "source": [
    "#Scale amount\n",
    "scaler = StandardScaler()\n",
    "amt_std = np.array(df['Amount'])\n",
    "amt_std = amt_std.reshape(-1, 1)\n",
    "df['Amount_Std'] = scaler.fit_transform(amt_std)"
   ]
  },
  {
   "cell_type": "code",
   "execution_count": 9,
   "metadata": {
    "ExecuteTime": {
     "end_time": "2018-07-07T11:26:28.802805Z",
     "start_time": "2018-07-07T11:26:28.789838Z"
    }
   },
   "outputs": [],
   "source": [
    "#Scale time\n",
    "scaler = StandardScaler()\n",
    "time_mnmx = np.array(df['Time'])\n",
    "time_mnmx = time_mnmx.reshape(-1, 1)\n",
    "df['Time_Mnmx'] = scaler.fit_transform(time_mnmx)"
   ]
  },
  {
   "cell_type": "markdown",
   "metadata": {},
   "source": [
    "### Part C : Dummy Model"
   ]
  },
  {
   "cell_type": "code",
   "execution_count": 10,
   "metadata": {
    "ExecuteTime": {
     "end_time": "2018-07-07T11:26:28.967744Z",
     "start_time": "2018-07-07T11:26:28.806543Z"
    }
   },
   "outputs": [],
   "source": [
    "#Specify target and features\n",
    "y = df['Class']\n",
    "x = df.copy().drop(['Class', 'Time', 'Amount'], axis = 1)"
   ]
  },
  {
   "cell_type": "code",
   "execution_count": 11,
   "metadata": {
    "ExecuteTime": {
     "end_time": "2018-07-07T11:26:29.157376Z",
     "start_time": "2018-07-07T11:26:28.970627Z"
    }
   },
   "outputs": [],
   "source": [
    "#Train-test split\n",
    "x_train, x_test, y_train, y_test = train_test_split(x, y, test_size = 0.3, random_state = 1)"
   ]
  },
  {
   "cell_type": "code",
   "execution_count": 12,
   "metadata": {
    "ExecuteTime": {
     "end_time": "2018-07-07T11:26:29.184626Z",
     "start_time": "2018-07-07T11:26:29.161464Z"
    }
   },
   "outputs": [
    {
     "data": {
      "text/plain": [
       "DummyClassifier(constant=None, random_state=None, strategy='stratified')"
      ]
     },
     "execution_count": 12,
     "metadata": {},
     "output_type": "execute_result"
    }
   ],
   "source": [
    "#Fit classifier to check feature importances\n",
    "clf_dummy = DummyClassifier(strategy='stratified')\n",
    "clf_dummy.fit(x_train, y_train)"
   ]
  },
  {
   "cell_type": "code",
   "execution_count": 13,
   "metadata": {
    "ExecuteTime": {
     "end_time": "2018-07-07T11:26:29.215543Z",
     "start_time": "2018-07-07T11:26:29.188225Z"
    }
   },
   "outputs": [
    {
     "data": {
      "text/plain": [
       "0.996616461852957"
      ]
     },
     "execution_count": 13,
     "metadata": {},
     "output_type": "execute_result"
    }
   ],
   "source": [
    "#Scoring the model on testing data\n",
    "clf_dummy.score(x_test, y_test)"
   ]
  },
  {
   "cell_type": "code",
   "execution_count": 14,
   "metadata": {
    "ExecuteTime": {
     "end_time": "2018-07-07T11:26:29.280504Z",
     "start_time": "2018-07-07T11:26:29.219467Z"
    }
   },
   "outputs": [
    {
     "data": {
      "text/html": [
       "<div>\n",
       "<style scoped>\n",
       "    .dataframe tbody tr th:only-of-type {\n",
       "        vertical-align: middle;\n",
       "    }\n",
       "\n",
       "    .dataframe tbody tr th {\n",
       "        vertical-align: top;\n",
       "    }\n",
       "\n",
       "    .dataframe thead th {\n",
       "        text-align: right;\n",
       "    }\n",
       "</style>\n",
       "<table border=\"1\" class=\"dataframe\">\n",
       "  <thead>\n",
       "    <tr style=\"text-align: right;\">\n",
       "      <th>Class</th>\n",
       "      <th>0</th>\n",
       "      <th>1</th>\n",
       "    </tr>\n",
       "    <tr>\n",
       "      <th>row_0</th>\n",
       "      <th></th>\n",
       "      <th></th>\n",
       "    </tr>\n",
       "  </thead>\n",
       "  <tbody>\n",
       "    <tr>\n",
       "      <th>0</th>\n",
       "      <td>84865</td>\n",
       "      <td>125</td>\n",
       "    </tr>\n",
       "    <tr>\n",
       "      <th>1</th>\n",
       "      <td>128</td>\n",
       "      <td>0</td>\n",
       "    </tr>\n",
       "  </tbody>\n",
       "</table>\n",
       "</div>"
      ],
      "text/plain": [
       "Class      0    1\n",
       "row_0            \n",
       "0      84865  125\n",
       "1        128    0"
      ]
     },
     "execution_count": 14,
     "metadata": {},
     "output_type": "execute_result"
    }
   ],
   "source": [
    "#Looking at the confusion matrix\n",
    "pd.crosstab(clf_dummy.predict(x_test), y_test)"
   ]
  },
  {
   "cell_type": "markdown",
   "metadata": {},
   "source": [
    "### Part D : Baseline Model"
   ]
  },
  {
   "cell_type": "code",
   "execution_count": 15,
   "metadata": {
    "ExecuteTime": {
     "end_time": "2018-07-07T11:26:29.392407Z",
     "start_time": "2018-07-07T11:26:29.284875Z"
    }
   },
   "outputs": [],
   "source": [
    "#Specify target and features\n",
    "y = df['Class']\n",
    "x = df.copy().drop(['Class', 'Time', 'Amount'], axis = 1)"
   ]
  },
  {
   "cell_type": "code",
   "execution_count": 16,
   "metadata": {
    "ExecuteTime": {
     "end_time": "2018-07-07T11:26:29.403038Z",
     "start_time": "2018-07-07T11:26:29.395737Z"
    }
   },
   "outputs": [],
   "source": [
    "#Model normal cases as 1 and fraud cases as -1\n",
    "y = np.where(y == 1, -1, 1)\n",
    "outliers = y[y == -1]"
   ]
  },
  {
   "cell_type": "code",
   "execution_count": 17,
   "metadata": {
    "ExecuteTime": {
     "end_time": "2018-07-07T11:26:29.414448Z",
     "start_time": "2018-07-07T11:26:29.407093Z"
    }
   },
   "outputs": [
    {
     "name": "stdout",
     "output_type": "stream",
     "text": [
      "Shape of outliers is :  (473,)\n",
      "Percentage of outliers is :  0.001667101358352777\n"
     ]
    }
   ],
   "source": [
    "#Print shape of outliers and percentage of outliers within dataset\n",
    "print('Shape of outliers is : ', outliers.shape)\n",
    "print('Percentage of outliers is : ', outliers.shape[0]/y.shape[0])"
   ]
  },
  {
   "cell_type": "code",
   "execution_count": 18,
   "metadata": {
    "ExecuteTime": {
     "end_time": "2018-07-07T11:26:29.553983Z",
     "start_time": "2018-07-07T11:26:29.418014Z"
    }
   },
   "outputs": [],
   "source": [
    "#Train-test split\n",
    "x_train, x_test, y_train, y_test = train_test_split(x, y, test_size = 0.3)"
   ]
  },
  {
   "cell_type": "code",
   "execution_count": 19,
   "metadata": {
    "ExecuteTime": {
     "end_time": "2018-07-07T11:26:29.617698Z",
     "start_time": "2018-07-07T11:26:29.556956Z"
    }
   },
   "outputs": [
    {
     "data": {
      "text/html": [
       "<div>\n",
       "<style scoped>\n",
       "    .dataframe tbody tr th:only-of-type {\n",
       "        vertical-align: middle;\n",
       "    }\n",
       "\n",
       "    .dataframe tbody tr th {\n",
       "        vertical-align: top;\n",
       "    }\n",
       "\n",
       "    .dataframe thead th {\n",
       "        text-align: right;\n",
       "    }\n",
       "</style>\n",
       "<table border=\"1\" class=\"dataframe\">\n",
       "  <thead>\n",
       "    <tr style=\"text-align: right;\">\n",
       "      <th>col_0</th>\n",
       "      <th>-1</th>\n",
       "      <th>1</th>\n",
       "    </tr>\n",
       "    <tr>\n",
       "      <th>row_0</th>\n",
       "      <th></th>\n",
       "      <th></th>\n",
       "    </tr>\n",
       "  </thead>\n",
       "  <tbody>\n",
       "    <tr>\n",
       "      <th>-1</th>\n",
       "      <td>348</td>\n",
       "      <td>0</td>\n",
       "    </tr>\n",
       "    <tr>\n",
       "      <th>1</th>\n",
       "      <td>0</td>\n",
       "      <td>198260</td>\n",
       "    </tr>\n",
       "  </tbody>\n",
       "</table>\n",
       "</div>"
      ],
      "text/plain": [
       "col_0   -1       1\n",
       "row_0             \n",
       "-1     348       0\n",
       " 1       0  198260"
      ]
     },
     "execution_count": 19,
     "metadata": {},
     "output_type": "execute_result"
    }
   ],
   "source": [
    "#Distribution in train\n",
    "pd.crosstab(y_train, y_train)"
   ]
  },
  {
   "cell_type": "code",
   "execution_count": 20,
   "metadata": {
    "ExecuteTime": {
     "end_time": "2018-07-07T11:26:29.671204Z",
     "start_time": "2018-07-07T11:26:29.621429Z"
    }
   },
   "outputs": [
    {
     "data": {
      "text/html": [
       "<div>\n",
       "<style scoped>\n",
       "    .dataframe tbody tr th:only-of-type {\n",
       "        vertical-align: middle;\n",
       "    }\n",
       "\n",
       "    .dataframe tbody tr th {\n",
       "        vertical-align: top;\n",
       "    }\n",
       "\n",
       "    .dataframe thead th {\n",
       "        text-align: right;\n",
       "    }\n",
       "</style>\n",
       "<table border=\"1\" class=\"dataframe\">\n",
       "  <thead>\n",
       "    <tr style=\"text-align: right;\">\n",
       "      <th>col_0</th>\n",
       "      <th>-1</th>\n",
       "      <th>1</th>\n",
       "    </tr>\n",
       "    <tr>\n",
       "      <th>row_0</th>\n",
       "      <th></th>\n",
       "      <th></th>\n",
       "    </tr>\n",
       "  </thead>\n",
       "  <tbody>\n",
       "    <tr>\n",
       "      <th>-1</th>\n",
       "      <td>125</td>\n",
       "      <td>0</td>\n",
       "    </tr>\n",
       "    <tr>\n",
       "      <th>1</th>\n",
       "      <td>0</td>\n",
       "      <td>84993</td>\n",
       "    </tr>\n",
       "  </tbody>\n",
       "</table>\n",
       "</div>"
      ],
      "text/plain": [
       "col_0   -1      1\n",
       "row_0            \n",
       "-1     125      0\n",
       " 1       0  84993"
      ]
     },
     "execution_count": 20,
     "metadata": {},
     "output_type": "execute_result"
    }
   ],
   "source": [
    "#Distribution in test\n",
    "pd.crosstab(y_test, y_test)"
   ]
  },
  {
   "cell_type": "code",
   "execution_count": 21,
   "metadata": {
    "ExecuteTime": {
     "end_time": "2018-07-07T11:26:29.685936Z",
     "start_time": "2018-07-07T11:26:29.677578Z"
    }
   },
   "outputs": [],
   "source": [
    "#Nu parameter of svm\n",
    "nu = outliers.shape[0]/y.shape[0]\n",
    "gamma = 0.0005"
   ]
  },
  {
   "cell_type": "code",
   "execution_count": 22,
   "metadata": {
    "ExecuteTime": {
     "end_time": "2018-07-07T11:44:40.676884Z",
     "start_time": "2018-07-07T11:26:29.690446Z"
    }
   },
   "outputs": [
    {
     "data": {
      "text/plain": [
       "OneClassSVM(cache_size=200, coef0=0.0, degree=3, gamma=0.1, kernel='rbf',\n",
       "      max_iter=-1, nu=0.1, random_state=None, shrinking=True, tol=0.001,\n",
       "      verbose=False)"
      ]
     },
     "execution_count": 22,
     "metadata": {},
     "output_type": "execute_result"
    }
   ],
   "source": [
    "#Fit classifier to check feature importances\n",
    "clf_svm = OneClassSVM(kernel='rbf', nu=0.1, gamma=0.1)\n",
    "clf_svm.fit(x_train)"
   ]
  },
  {
   "cell_type": "code",
   "execution_count": 23,
   "metadata": {
    "ExecuteTime": {
     "end_time": "2018-07-07T11:48:39.850743Z",
     "start_time": "2018-07-07T11:44:40.680981Z"
    }
   },
   "outputs": [
    {
     "name": "stdout",
     "output_type": "stream",
     "text": [
      "accuracy:  0.9014843309433658\n",
      "precision:  0.9998545421995457\n",
      "recall:  0.9014425501866237\n",
      "f1:  0.9481016217248532\n",
      "area under curve (auc):  0.9133649532542314\n"
     ]
    }
   ],
   "source": [
    "#Accuracy metrics for training\n",
    "preds = clf_svm.predict(x_train)  \n",
    "targs = y_train\n",
    "\n",
    "print(\"accuracy: \", metrics.accuracy_score(targs, preds))  \n",
    "print(\"precision: \", metrics.precision_score(targs, preds))  \n",
    "print(\"recall: \", metrics.recall_score(targs, preds))  \n",
    "print(\"f1: \", metrics.f1_score(targs, preds))  \n",
    "print(\"area under curve (auc): \", metrics.roc_auc_score(targs, preds))  "
   ]
  },
  {
   "cell_type": "code",
   "execution_count": 24,
   "metadata": {
    "ExecuteTime": {
     "end_time": "2018-07-07T11:48:39.909402Z",
     "start_time": "2018-07-07T11:48:39.855017Z"
    }
   },
   "outputs": [
    {
     "data": {
      "text/html": [
       "<div>\n",
       "<style scoped>\n",
       "    .dataframe tbody tr th:only-of-type {\n",
       "        vertical-align: middle;\n",
       "    }\n",
       "\n",
       "    .dataframe tbody tr th {\n",
       "        vertical-align: top;\n",
       "    }\n",
       "\n",
       "    .dataframe thead th {\n",
       "        text-align: right;\n",
       "    }\n",
       "</style>\n",
       "<table border=\"1\" class=\"dataframe\">\n",
       "  <thead>\n",
       "    <tr style=\"text-align: right;\">\n",
       "      <th>col_0</th>\n",
       "      <th>-1</th>\n",
       "      <th>1</th>\n",
       "    </tr>\n",
       "    <tr>\n",
       "      <th>row_0</th>\n",
       "      <th></th>\n",
       "      <th></th>\n",
       "    </tr>\n",
       "  </thead>\n",
       "  <tbody>\n",
       "    <tr>\n",
       "      <th>-1</th>\n",
       "      <td>322</td>\n",
       "      <td>26</td>\n",
       "    </tr>\n",
       "    <tr>\n",
       "      <th>1</th>\n",
       "      <td>19540</td>\n",
       "      <td>178720</td>\n",
       "    </tr>\n",
       "  </tbody>\n",
       "</table>\n",
       "</div>"
      ],
      "text/plain": [
       "col_0     -1       1\n",
       "row_0               \n",
       "-1       322      26\n",
       " 1     19540  178720"
      ]
     },
     "execution_count": 24,
     "metadata": {},
     "output_type": "execute_result"
    }
   ],
   "source": [
    "#Looking at the confusion matrix\n",
    "pd.crosstab(targs, preds)"
   ]
  },
  {
   "cell_type": "code",
   "execution_count": 25,
   "metadata": {
    "ExecuteTime": {
     "end_time": "2018-07-07T11:50:19.758525Z",
     "start_time": "2018-07-07T11:48:39.913230Z"
    }
   },
   "outputs": [
    {
     "name": "stdout",
     "output_type": "stream",
     "text": [
      "accuracy:  0.8983763716252732\n",
      "precision:  0.9998035955115028\n",
      "recall:  0.8984033979268881\n",
      "f1:  0.9463951513949654\n",
      "area under curve (auc):  0.8892016989634439\n"
     ]
    }
   ],
   "source": [
    "#Accuracy metrics for testing\n",
    "preds = clf_svm.predict(x_test)  \n",
    "targs = y_test\n",
    "\n",
    "print(\"accuracy: \", metrics.accuracy_score(targs, preds))  \n",
    "print(\"precision: \", metrics.precision_score(targs, preds))  \n",
    "print(\"recall: \", metrics.recall_score(targs, preds))  \n",
    "print(\"f1: \", metrics.f1_score(targs, preds))  \n",
    "print(\"area under curve (auc): \", metrics.roc_auc_score(targs, preds))  "
   ]
  },
  {
   "cell_type": "code",
   "execution_count": 26,
   "metadata": {
    "ExecuteTime": {
     "end_time": "2018-07-07T11:50:19.804639Z",
     "start_time": "2018-07-07T11:50:19.762629Z"
    }
   },
   "outputs": [
    {
     "data": {
      "text/html": [
       "<div>\n",
       "<style scoped>\n",
       "    .dataframe tbody tr th:only-of-type {\n",
       "        vertical-align: middle;\n",
       "    }\n",
       "\n",
       "    .dataframe tbody tr th {\n",
       "        vertical-align: top;\n",
       "    }\n",
       "\n",
       "    .dataframe thead th {\n",
       "        text-align: right;\n",
       "    }\n",
       "</style>\n",
       "<table border=\"1\" class=\"dataframe\">\n",
       "  <thead>\n",
       "    <tr style=\"text-align: right;\">\n",
       "      <th>col_0</th>\n",
       "      <th>-1</th>\n",
       "      <th>1</th>\n",
       "    </tr>\n",
       "    <tr>\n",
       "      <th>row_0</th>\n",
       "      <th></th>\n",
       "      <th></th>\n",
       "    </tr>\n",
       "  </thead>\n",
       "  <tbody>\n",
       "    <tr>\n",
       "      <th>-1</th>\n",
       "      <td>110</td>\n",
       "      <td>15</td>\n",
       "    </tr>\n",
       "    <tr>\n",
       "      <th>1</th>\n",
       "      <td>8635</td>\n",
       "      <td>76358</td>\n",
       "    </tr>\n",
       "  </tbody>\n",
       "</table>\n",
       "</div>"
      ],
      "text/plain": [
       "col_0    -1      1\n",
       "row_0             \n",
       "-1      110     15\n",
       " 1     8635  76358"
      ]
     },
     "execution_count": 26,
     "metadata": {},
     "output_type": "execute_result"
    }
   ],
   "source": [
    "#Looking at the confusion matrix\n",
    "pd.crosstab(targs, preds)"
   ]
  },
  {
   "cell_type": "code",
   "execution_count": 27,
   "metadata": {
    "ExecuteTime": {
     "end_time": "2018-07-07T11:50:19.829977Z",
     "start_time": "2018-07-07T11:50:19.808840Z"
    }
   },
   "outputs": [
    {
     "data": {
      "text/plain": [
       "['/Users/SandyPC/Documents/Python/Projects/kaggle_fraud/models/oneclasssvm.pkl']"
      ]
     },
     "execution_count": 27,
     "metadata": {},
     "output_type": "execute_result"
    }
   ],
   "source": [
    "#Pickle the model for future use\n",
    "joblib.dump(clf_svm, '/Users/SandyPC/Documents/Python/Projects/kaggle_fraud/models/oneclasssvm.pkl') "
   ]
  },
  {
   "cell_type": "code",
   "execution_count": 28,
   "metadata": {
    "ExecuteTime": {
     "end_time": "2018-07-07T11:50:20.877902Z",
     "start_time": "2018-07-07T11:50:19.835219Z"
    }
   },
   "outputs": [],
   "source": [
    "#Send message to denote code has finished running\n",
    "send_telegram_message(\"Code finished executing..\", chat_id, token)"
   ]
  }
 ],
 "metadata": {
  "extensions": {
   "jupyter_dashboards": {
    "activeView": "report_default",
    "version": 1,
    "views": {
     "grid_default": {
      "cellMargin": 10,
      "defaultCellHeight": 20,
      "maxColumns": 12,
      "name": "grid",
      "type": "grid"
     },
     "report_default": {
      "name": "report",
      "type": "report"
     }
    }
   }
  },
  "kernelspec": {
   "display_name": "Python 3",
   "language": "python",
   "name": "python3"
  },
  "language_info": {
   "codemirror_mode": {
    "name": "ipython",
    "version": 3
   },
   "file_extension": ".py",
   "mimetype": "text/x-python",
   "name": "python",
   "nbconvert_exporter": "python",
   "pygments_lexer": "ipython3",
   "version": "3.6.2"
  },
  "toc": {
   "base_numbering": 1,
   "nav_menu": {},
   "number_sections": false,
   "sideBar": true,
   "skip_h1_title": false,
   "title_cell": "Table of Contents",
   "title_sidebar": "Contents",
   "toc_cell": false,
   "toc_position": {},
   "toc_section_display": true,
   "toc_window_display": false
  }
 },
 "nbformat": 4,
 "nbformat_minor": 2
}
