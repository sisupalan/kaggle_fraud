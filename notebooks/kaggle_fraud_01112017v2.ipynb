{
 "cells": [
  {
   "cell_type": "markdown",
   "metadata": {},
   "source": [
    "### Phase A : Load Required Packages and Dataset"
   ]
  },
  {
   "cell_type": "code",
   "execution_count": 1,
   "metadata": {
    "ExecuteTime": {
     "end_time": "2018-07-07T19:27:53.144364Z",
     "start_time": "2018-07-07T19:27:52.004438Z"
    },
    "extensions": {
     "jupyter_dashboards": {
      "version": 1,
      "views": {
       "grid_default": {
        "hidden": true
       },
       "report_default": {
        "hidden": true
       }
      }
     }
    }
   },
   "outputs": [],
   "source": [
    "#Load libraries\n",
    "import pandas as pd\n",
    "import numpy as np\n",
    "import matplotlib.pyplot as plt\n",
    "import seaborn as sns\n",
    "import telepot"
   ]
  },
  {
   "cell_type": "code",
   "execution_count": 2,
   "metadata": {
    "ExecuteTime": {
     "end_time": "2018-07-07T19:27:53.252893Z",
     "start_time": "2018-07-07T19:27:53.147568Z"
    }
   },
   "outputs": [],
   "source": [
    "#Selective import of modules\n",
    "from sklearn.preprocessing import StandardScaler\n",
    "from sklearn.model_selection import train_test_split, ParameterGrid, RandomizedSearchCV\n",
    "from sklearn.svm import OneClassSVM\n",
    "from sklearn.dummy import DummyClassifier\n",
    "from sklearn.externals import joblib\n",
    "from sklearn import metrics\n",
    "from sklearn.metrics import make_scorer, roc_auc_score"
   ]
  },
  {
   "cell_type": "code",
   "execution_count": 3,
   "metadata": {
    "ExecuteTime": {
     "end_time": "2018-07-07T19:27:53.267683Z",
     "start_time": "2018-07-07T19:27:53.255781Z"
    }
   },
   "outputs": [],
   "source": [
    "#Load cell magics\n",
    "%matplotlib inline\n",
    "token=\"559325635:AAH0eBs-GJ0-iFouJ-LZAHtRfhcmYjgFqKo\"\n",
    "chat_id=\"507809613\""
   ]
  },
  {
   "cell_type": "code",
   "execution_count": 4,
   "metadata": {
    "ExecuteTime": {
     "end_time": "2018-07-07T19:27:53.280634Z",
     "start_time": "2018-07-07T19:27:53.271497Z"
    }
   },
   "outputs": [],
   "source": [
    "#Function to send message via Telegram to inform code execution is done\n",
    "def send_telegram_message(text, chat_id, token):\n",
    "    bot = telepot.Bot(token=token)\n",
    "    bot.sendMessage(chat_id=chat_id, text=text)"
   ]
  },
  {
   "cell_type": "code",
   "execution_count": 5,
   "metadata": {
    "ExecuteTime": {
     "end_time": "2018-07-07T19:27:54.170121Z",
     "start_time": "2018-07-07T19:27:53.284882Z"
    }
   },
   "outputs": [],
   "source": [
    "#Send message to denote code has started running\n",
    "send_telegram_message(\"Code started executing..\", chat_id, token)"
   ]
  },
  {
   "cell_type": "code",
   "execution_count": 6,
   "metadata": {
    "ExecuteTime": {
     "end_time": "2018-07-07T19:27:58.082626Z",
     "start_time": "2018-07-07T19:27:54.173298Z"
    },
    "extensions": {
     "jupyter_dashboards": {
      "version": 1,
      "views": {
       "grid_default": {
        "hidden": true
       },
       "report_default": {
        "hidden": true
       }
      }
     }
    }
   },
   "outputs": [],
   "source": [
    "#Load dataset\n",
    "df = pd.read_csv('/Users/SandyPC/Documents/Python/Projects/kaggle_fraud/data/raw/creditcard.csv')"
   ]
  },
  {
   "cell_type": "markdown",
   "metadata": {},
   "source": [
    "### Part B : Data Manipulation"
   ]
  },
  {
   "cell_type": "code",
   "execution_count": 7,
   "metadata": {
    "ExecuteTime": {
     "end_time": "2018-07-07T19:27:59.181231Z",
     "start_time": "2018-07-07T19:27:58.086170Z"
    }
   },
   "outputs": [
    {
     "name": "stdout",
     "output_type": "stream",
     "text": [
      "Shape of dataframe before dropping duplicates is :  (284807, 31)\n",
      "Shape of dataframe after dropping duplicates is :  (283726, 31)\n"
     ]
    }
   ],
   "source": [
    "#Print shape before dropping duplicates\n",
    "print('Shape of dataframe before dropping duplicates is : ', df.shape)\n",
    "\n",
    "#Drop duplicates\n",
    "df = df.drop_duplicates()\n",
    "\n",
    "#Print shape after dropping duplicates\n",
    "print('Shape of dataframe after dropping duplicates is : ', df.shape)"
   ]
  },
  {
   "cell_type": "code",
   "execution_count": 8,
   "metadata": {
    "ExecuteTime": {
     "end_time": "2018-07-07T19:27:59.254110Z",
     "start_time": "2018-07-07T19:27:59.185350Z"
    }
   },
   "outputs": [],
   "source": [
    "#Scale amount\n",
    "scaler = StandardScaler()\n",
    "amt_std = np.array(df['Amount'])\n",
    "amt_std = amt_std.reshape(-1, 1)\n",
    "df['Amount_Std'] = scaler.fit_transform(amt_std)"
   ]
  },
  {
   "cell_type": "code",
   "execution_count": 9,
   "metadata": {
    "ExecuteTime": {
     "end_time": "2018-07-07T19:27:59.270186Z",
     "start_time": "2018-07-07T19:27:59.256716Z"
    }
   },
   "outputs": [],
   "source": [
    "#Scale time\n",
    "scaler = StandardScaler()\n",
    "time_std = np.array(df['Time'])\n",
    "time_std = time_std.reshape(-1, 1)\n",
    "df['Time_Std'] = scaler.fit_transform(time_std)"
   ]
  },
  {
   "cell_type": "markdown",
   "metadata": {},
   "source": [
    "### Part C : Dummy Model"
   ]
  },
  {
   "cell_type": "code",
   "execution_count": 10,
   "metadata": {
    "ExecuteTime": {
     "end_time": "2018-07-07T19:27:59.438481Z",
     "start_time": "2018-07-07T19:27:59.273875Z"
    }
   },
   "outputs": [],
   "source": [
    "#Specify target and features\n",
    "y = df['Class']\n",
    "x = df.copy().drop(['Class', 'Time', 'Amount'], axis = 1)"
   ]
  },
  {
   "cell_type": "code",
   "execution_count": 11,
   "metadata": {
    "ExecuteTime": {
     "end_time": "2018-07-07T19:27:59.572951Z",
     "start_time": "2018-07-07T19:27:59.441597Z"
    }
   },
   "outputs": [],
   "source": [
    "#Train-test split\n",
    "x_train, x_test, y_train, y_test = train_test_split(x, y, test_size = 0.3)"
   ]
  },
  {
   "cell_type": "code",
   "execution_count": 12,
   "metadata": {
    "ExecuteTime": {
     "end_time": "2018-07-07T19:27:59.593524Z",
     "start_time": "2018-07-07T19:27:59.575736Z"
    }
   },
   "outputs": [
    {
     "data": {
      "text/plain": [
       "DummyClassifier(constant=None, random_state=None, strategy='stratified')"
      ]
     },
     "execution_count": 12,
     "metadata": {},
     "output_type": "execute_result"
    }
   ],
   "source": [
    "#Fit classifier to check feature importances\n",
    "clf_dummy = DummyClassifier(strategy='stratified')\n",
    "clf_dummy.fit(x_train, y_train)"
   ]
  },
  {
   "cell_type": "code",
   "execution_count": 13,
   "metadata": {
    "ExecuteTime": {
     "end_time": "2018-07-07T19:27:59.622354Z",
     "start_time": "2018-07-07T19:27:59.597809Z"
    }
   },
   "outputs": [
    {
     "data": {
      "text/plain": [
       "0.9967104490237083"
      ]
     },
     "execution_count": 13,
     "metadata": {},
     "output_type": "execute_result"
    }
   ],
   "source": [
    "#Scoring the model on testing data\n",
    "clf_dummy.score(x_test, y_test)"
   ]
  },
  {
   "cell_type": "code",
   "execution_count": 14,
   "metadata": {
    "ExecuteTime": {
     "end_time": "2018-07-07T19:27:59.679971Z",
     "start_time": "2018-07-07T19:27:59.626061Z"
    }
   },
   "outputs": [
    {
     "data": {
      "text/html": [
       "<div>\n",
       "<style scoped>\n",
       "    .dataframe tbody tr th:only-of-type {\n",
       "        vertical-align: middle;\n",
       "    }\n",
       "\n",
       "    .dataframe tbody tr th {\n",
       "        vertical-align: top;\n",
       "    }\n",
       "\n",
       "    .dataframe thead th {\n",
       "        text-align: right;\n",
       "    }\n",
       "</style>\n",
       "<table border=\"1\" class=\"dataframe\">\n",
       "  <thead>\n",
       "    <tr style=\"text-align: right;\">\n",
       "      <th>Class</th>\n",
       "      <th>0</th>\n",
       "      <th>1</th>\n",
       "    </tr>\n",
       "    <tr>\n",
       "      <th>row_0</th>\n",
       "      <th></th>\n",
       "      <th></th>\n",
       "    </tr>\n",
       "  </thead>\n",
       "  <tbody>\n",
       "    <tr>\n",
       "      <th>0</th>\n",
       "      <td>84821</td>\n",
       "      <td>136</td>\n",
       "    </tr>\n",
       "    <tr>\n",
       "      <th>1</th>\n",
       "      <td>161</td>\n",
       "      <td>0</td>\n",
       "    </tr>\n",
       "  </tbody>\n",
       "</table>\n",
       "</div>"
      ],
      "text/plain": [
       "Class      0    1\n",
       "row_0            \n",
       "0      84821  136\n",
       "1        161    0"
      ]
     },
     "execution_count": 14,
     "metadata": {},
     "output_type": "execute_result"
    }
   ],
   "source": [
    "#Looking at the confusion matrix\n",
    "pd.crosstab(clf_dummy.predict(x_test), y_test)"
   ]
  },
  {
   "cell_type": "markdown",
   "metadata": {},
   "source": [
    "### Part D : Baseline Model"
   ]
  },
  {
   "cell_type": "code",
   "execution_count": 15,
   "metadata": {
    "ExecuteTime": {
     "end_time": "2018-07-07T19:27:59.800033Z",
     "start_time": "2018-07-07T19:27:59.684717Z"
    }
   },
   "outputs": [],
   "source": [
    "#Specify target and features\n",
    "y = df['Class']\n",
    "x = df.copy().drop(['Class', 'Time', 'Amount'], axis = 1)"
   ]
  },
  {
   "cell_type": "code",
   "execution_count": 16,
   "metadata": {
    "ExecuteTime": {
     "end_time": "2018-07-07T19:27:59.811139Z",
     "start_time": "2018-07-07T19:27:59.802939Z"
    }
   },
   "outputs": [],
   "source": [
    "#Model normal cases as 1 and fraud cases as -1\n",
    "y = np.where(y == 1, -1, 1)\n",
    "outliers = y[y == -1]"
   ]
  },
  {
   "cell_type": "code",
   "execution_count": 17,
   "metadata": {
    "ExecuteTime": {
     "end_time": "2018-07-07T19:27:59.822134Z",
     "start_time": "2018-07-07T19:27:59.815361Z"
    }
   },
   "outputs": [
    {
     "name": "stdout",
     "output_type": "stream",
     "text": [
      "Shape of outliers is :  (473,)\n",
      "Percentage of outliers is :  0.001667101358352777\n"
     ]
    }
   ],
   "source": [
    "#Print shape of outliers and percentage of outliers within dataset\n",
    "print('Shape of outliers is : ', outliers.shape)\n",
    "print('Percentage of outliers is : ', outliers.shape[0]/y.shape[0])"
   ]
  },
  {
   "cell_type": "code",
   "execution_count": 18,
   "metadata": {
    "ExecuteTime": {
     "end_time": "2018-07-07T19:27:59.956462Z",
     "start_time": "2018-07-07T19:27:59.826144Z"
    }
   },
   "outputs": [],
   "source": [
    "#Train-test split\n",
    "x_train, x_test, y_train, y_test = train_test_split(x, y, test_size=0.3, random_state=1)"
   ]
  },
  {
   "cell_type": "code",
   "execution_count": 19,
   "metadata": {
    "ExecuteTime": {
     "end_time": "2018-07-07T19:27:59.986644Z",
     "start_time": "2018-07-07T19:27:59.959369Z"
    }
   },
   "outputs": [],
   "source": [
    "#Train on only one class\n",
    "mask = y_train == 1\n",
    "training_data = x_train[mask]\n",
    "training_labels = y_train[mask]"
   ]
  },
  {
   "cell_type": "code",
   "execution_count": 20,
   "metadata": {
    "ExecuteTime": {
     "end_time": "2018-07-07T19:28:00.043416Z",
     "start_time": "2018-07-07T19:27:59.990794Z"
    }
   },
   "outputs": [
    {
     "data": {
      "text/html": [
       "<div>\n",
       "<style scoped>\n",
       "    .dataframe tbody tr th:only-of-type {\n",
       "        vertical-align: middle;\n",
       "    }\n",
       "\n",
       "    .dataframe tbody tr th {\n",
       "        vertical-align: top;\n",
       "    }\n",
       "\n",
       "    .dataframe thead th {\n",
       "        text-align: right;\n",
       "    }\n",
       "</style>\n",
       "<table border=\"1\" class=\"dataframe\">\n",
       "  <thead>\n",
       "    <tr style=\"text-align: right;\">\n",
       "      <th>col_0</th>\n",
       "      <th>1</th>\n",
       "    </tr>\n",
       "    <tr>\n",
       "      <th>row_0</th>\n",
       "      <th></th>\n",
       "    </tr>\n",
       "  </thead>\n",
       "  <tbody>\n",
       "    <tr>\n",
       "      <th>1</th>\n",
       "      <td>198260</td>\n",
       "    </tr>\n",
       "  </tbody>\n",
       "</table>\n",
       "</div>"
      ],
      "text/plain": [
       "col_0       1\n",
       "row_0        \n",
       "1      198260"
      ]
     },
     "execution_count": 20,
     "metadata": {},
     "output_type": "execute_result"
    }
   ],
   "source": [
    "#Distribution in train\n",
    "pd.crosstab(training_labels, training_labels)"
   ]
  },
  {
   "cell_type": "code",
   "execution_count": 21,
   "metadata": {
    "ExecuteTime": {
     "end_time": "2018-07-07T19:28:00.089640Z",
     "start_time": "2018-07-07T19:28:00.047440Z"
    }
   },
   "outputs": [
    {
     "data": {
      "text/html": [
       "<div>\n",
       "<style scoped>\n",
       "    .dataframe tbody tr th:only-of-type {\n",
       "        vertical-align: middle;\n",
       "    }\n",
       "\n",
       "    .dataframe tbody tr th {\n",
       "        vertical-align: top;\n",
       "    }\n",
       "\n",
       "    .dataframe thead th {\n",
       "        text-align: right;\n",
       "    }\n",
       "</style>\n",
       "<table border=\"1\" class=\"dataframe\">\n",
       "  <thead>\n",
       "    <tr style=\"text-align: right;\">\n",
       "      <th>col_0</th>\n",
       "      <th>-1</th>\n",
       "      <th>1</th>\n",
       "    </tr>\n",
       "    <tr>\n",
       "      <th>row_0</th>\n",
       "      <th></th>\n",
       "      <th></th>\n",
       "    </tr>\n",
       "  </thead>\n",
       "  <tbody>\n",
       "    <tr>\n",
       "      <th>-1</th>\n",
       "      <td>125</td>\n",
       "      <td>0</td>\n",
       "    </tr>\n",
       "    <tr>\n",
       "      <th>1</th>\n",
       "      <td>0</td>\n",
       "      <td>84993</td>\n",
       "    </tr>\n",
       "  </tbody>\n",
       "</table>\n",
       "</div>"
      ],
      "text/plain": [
       "col_0   -1      1\n",
       "row_0            \n",
       "-1     125      0\n",
       " 1       0  84993"
      ]
     },
     "execution_count": 21,
     "metadata": {},
     "output_type": "execute_result"
    }
   ],
   "source": [
    "#Distribution in test\n",
    "pd.crosstab(y_test, y_test)"
   ]
  },
  {
   "cell_type": "code",
   "execution_count": 22,
   "metadata": {
    "ExecuteTime": {
     "end_time": "2018-07-07T19:45:17.267195Z",
     "start_time": "2018-07-07T19:28:00.094751Z"
    }
   },
   "outputs": [
    {
     "data": {
      "text/plain": [
       "OneClassSVM(cache_size=200, coef0=0.0, degree=3, gamma=0.1, kernel='rbf',\n",
       "      max_iter=-1, nu=0.1, random_state=None, shrinking=True, tol=0.001,\n",
       "      verbose=False)"
      ]
     },
     "execution_count": 22,
     "metadata": {},
     "output_type": "execute_result"
    }
   ],
   "source": [
    "#Fit classifier to check feature importances\n",
    "clf_svm = OneClassSVM(kernel='rbf', nu=0.1, gamma=0.1)\n",
    "clf_svm.fit(training_data)"
   ]
  },
  {
   "cell_type": "code",
   "execution_count": 23,
   "metadata": {
    "ExecuteTime": {
     "end_time": "2018-07-07T19:46:54.895612Z",
     "start_time": "2018-07-07T19:45:17.271493Z"
    }
   },
   "outputs": [
    {
     "name": "stdout",
     "output_type": "stream",
     "text": [
      "accuracy:  0.8972367771799149\n",
      "precision:  0.9998033457444019\n",
      "recall:  0.897262127469321\n",
      "f1:  0.9457614296610012\n",
      "area under curve (auc):  0.8886310637346604\n"
     ]
    }
   ],
   "source": [
    "#Accuracy metrics for testing\n",
    "preds = clf_svm.predict(x_test)  \n",
    "targs = y_test\n",
    "\n",
    "print(\"accuracy: \", metrics.accuracy_score(targs, preds))  \n",
    "print(\"precision: \", metrics.precision_score(targs, preds))  \n",
    "print(\"recall: \", metrics.recall_score(targs, preds))  \n",
    "print(\"f1: \", metrics.f1_score(targs, preds))  \n",
    "print(\"area under curve (auc): \", metrics.roc_auc_score(targs, preds))  "
   ]
  },
  {
   "cell_type": "code",
   "execution_count": 24,
   "metadata": {
    "ExecuteTime": {
     "end_time": "2018-07-07T19:46:54.941530Z",
     "start_time": "2018-07-07T19:46:54.898638Z"
    }
   },
   "outputs": [
    {
     "data": {
      "text/html": [
       "<div>\n",
       "<style scoped>\n",
       "    .dataframe tbody tr th:only-of-type {\n",
       "        vertical-align: middle;\n",
       "    }\n",
       "\n",
       "    .dataframe tbody tr th {\n",
       "        vertical-align: top;\n",
       "    }\n",
       "\n",
       "    .dataframe thead th {\n",
       "        text-align: right;\n",
       "    }\n",
       "</style>\n",
       "<table border=\"1\" class=\"dataframe\">\n",
       "  <thead>\n",
       "    <tr style=\"text-align: right;\">\n",
       "      <th>col_0</th>\n",
       "      <th>-1</th>\n",
       "      <th>1</th>\n",
       "    </tr>\n",
       "    <tr>\n",
       "      <th>row_0</th>\n",
       "      <th></th>\n",
       "      <th></th>\n",
       "    </tr>\n",
       "  </thead>\n",
       "  <tbody>\n",
       "    <tr>\n",
       "      <th>-1</th>\n",
       "      <td>110</td>\n",
       "      <td>15</td>\n",
       "    </tr>\n",
       "    <tr>\n",
       "      <th>1</th>\n",
       "      <td>8732</td>\n",
       "      <td>76261</td>\n",
       "    </tr>\n",
       "  </tbody>\n",
       "</table>\n",
       "</div>"
      ],
      "text/plain": [
       "col_0    -1      1\n",
       "row_0             \n",
       "-1      110     15\n",
       " 1     8732  76261"
      ]
     },
     "execution_count": 24,
     "metadata": {},
     "output_type": "execute_result"
    }
   ],
   "source": [
    "#Looking at the confusion matrix\n",
    "pd.crosstab(targs, preds)"
   ]
  },
  {
   "cell_type": "code",
   "execution_count": 25,
   "metadata": {
    "ExecuteTime": {
     "end_time": "2018-07-07T19:46:55.851433Z",
     "start_time": "2018-07-07T19:46:54.946334Z"
    }
   },
   "outputs": [],
   "source": [
    "#Send message to denote model has finished running\n",
    "send_telegram_message(\"Finished building model..\", chat_id, token)"
   ]
  },
  {
   "cell_type": "markdown",
   "metadata": {},
   "source": [
    "### Part E : Hyperparameter Tuning"
   ]
  },
  {
   "cell_type": "code",
   "execution_count": 26,
   "metadata": {
    "ExecuteTime": {
     "end_time": "2018-07-07T19:46:55.860976Z",
     "start_time": "2018-07-07T19:46:55.854966Z"
    }
   },
   "outputs": [],
   "source": [
    "#Define the gamma and nu values to be tuned\n",
    "gammas = np.logspace(-9, 3, 13)\n",
    "nus = np.linspace(0.01, 0.99, 99)"
   ]
  },
  {
   "cell_type": "code",
   "execution_count": 27,
   "metadata": {
    "ExecuteTime": {
     "end_time": "2018-07-07T19:46:55.872112Z",
     "start_time": "2018-07-07T19:46:55.864326Z"
    }
   },
   "outputs": [],
   "source": [
    "#Specify grid search parameters\n",
    "grid = {'gamma' : gammas,\n",
    "        'nu' : nus}"
   ]
  },
  {
   "cell_type": "code",
   "execution_count": null,
   "metadata": {
    "ExecuteTime": {
     "start_time": "2018-07-07T19:27:52.120Z"
    }
   },
   "outputs": [],
   "source": [
    "#Specify scoring parameter\n",
    "auc = make_scorer(roc_auc_score)"
   ]
  },
  {
   "cell_type": "code",
   "execution_count": null,
   "metadata": {
    "ExecuteTime": {
     "start_time": "2018-07-07T19:27:52.129Z"
    }
   },
   "outputs": [],
   "source": [
    "#Initialize random search\n",
    "rand_search = RandomizedSearchCV(clf_svm, param_distributions = grid, n_iter = 20, n_jobs = 4, cv = 3, random_state=1, scoring=auc) \n",
    "rand_search.fit(x, y) \n",
    "rand_search.cv_results_"
   ]
  },
  {
   "cell_type": "code",
   "execution_count": null,
   "metadata": {
    "ExecuteTime": {
     "end_time": "2018-07-07T19:46:55.851433Z",
     "start_time": "2018-07-07T19:46:54.946334Z"
    }
   },
   "outputs": [],
   "source": [
    "#Send message to denote random search has finished running\n",
    "send_telegram_message(\"Random search has finished executing..\", chat_id, token)"
   ]
  },
  {
   "cell_type": "code",
   "execution_count": null,
   "metadata": {
    "ExecuteTime": {
     "start_time": "2018-07-07T19:27:52.137Z"
    }
   },
   "outputs": [],
   "source": [
    "#Pickle the model for future use\n",
    "joblib.dump(clf_svm, '/Users/SandyPC/Documents/Python/Projects/kaggle_fraud/models/oneclasssvm.pkl') "
   ]
  },
  {
   "cell_type": "code",
   "execution_count": null,
   "metadata": {
    "ExecuteTime": {
     "start_time": "2018-07-07T19:27:52.139Z"
    }
   },
   "outputs": [],
   "source": [
    "#Send message to denote code has finished running\n",
    "send_telegram_message(\"Code finished executing..\", chat_id, token)"
   ]
  }
 ],
 "metadata": {
  "extensions": {
   "jupyter_dashboards": {
    "activeView": "report_default",
    "version": 1,
    "views": {
     "grid_default": {
      "cellMargin": 10,
      "defaultCellHeight": 20,
      "maxColumns": 12,
      "name": "grid",
      "type": "grid"
     },
     "report_default": {
      "name": "report",
      "type": "report"
     }
    }
   }
  },
  "kernelspec": {
   "display_name": "Python 3",
   "language": "python",
   "name": "python3"
  },
  "language_info": {
   "codemirror_mode": {
    "name": "ipython",
    "version": 3
   },
   "file_extension": ".py",
   "mimetype": "text/x-python",
   "name": "python",
   "nbconvert_exporter": "python",
   "pygments_lexer": "ipython3",
   "version": "3.6.2"
  },
  "toc": {
   "base_numbering": 1,
   "nav_menu": {},
   "number_sections": false,
   "sideBar": true,
   "skip_h1_title": false,
   "title_cell": "Table of Contents",
   "title_sidebar": "Contents",
   "toc_cell": false,
   "toc_position": {},
   "toc_section_display": true,
   "toc_window_display": false
  }
 },
 "nbformat": 4,
 "nbformat_minor": 2
}
